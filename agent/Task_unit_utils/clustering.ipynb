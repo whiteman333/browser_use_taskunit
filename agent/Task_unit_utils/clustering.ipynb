{
 "cells": [
  {
   "cell_type": "code",
   "execution_count": 3,
   "metadata": {},
   "outputs": [],
   "source": [
    "from EmbeddingManager import (\n",
    "    TaskEmbeddingManager,\n",
    ")\n",
    "import logging\n",
    "import sys\n",
    "# 示例用法\n",
    "from prompt import AIServiceManager\n",
    "import pandas as pd\n",
    "from glob import glob\n",
    "# 初始化服务管理器\n",
    "service_manager = AIServiceManager(config_path=\"api_config.json\")\n",
    "import os\n",
    "\n",
    "# # 配置日志记录\n",
    "# logging.basicConfig(\n",
    "#     level=logging.INFO,  # 设置日志级别为 INFO\n",
    "#     format='%(asctime)s - %(name)s - %(levelname)s - %(message)s',  # 设置日志格式\n",
    "#     datefmt='%Y-%m-%d %H:%M:%S',  # 设置时间格式\n",
    "#     handlers=[\n",
    "#         logging.StreamHandler(sys.stdout) # 确保日志输出到 notebook\n",
    "#     ]\n",
    "# )\n",
    "\n",
    "# # 获取一个 logger 实例 (可选，如果这个 notebook 本身也需要记录日志)\n",
    "# logger = logging.getLogger(__name__)\n",
    "# logger.info(\"日志记录已配置。\")\n"
   ]
  },
  {
   "cell_type": "code",
   "execution_count": 5,
   "metadata": {},
   "outputs": [
    {
     "name": "stdout",
     "output_type": "stream",
     "text": [
      "['/home/douzc/users/yuyao/datasets/Mind2Web/data/train-00016-of-00027-89dd493e8abfbe97.parquet', '/home/douzc/users/yuyao/datasets/Mind2Web/data/train-00026-of-00027-fdc31d0e2d56bf2f.parquet', '/home/douzc/users/yuyao/datasets/Mind2Web/data/train-00005-of-00027-5880578c1eba7822.parquet', '/home/douzc/users/yuyao/datasets/Mind2Web/data/train-00010-of-00027-dc9d9f0049e1567c.parquet', '/home/douzc/users/yuyao/datasets/Mind2Web/data/train-00002-of-00027-81107b64e8a3a046.parquet', '/home/douzc/users/yuyao/datasets/Mind2Web/data/train-00001-of-00027-2011d8e72a165f62.parquet', '/home/douzc/users/yuyao/datasets/Mind2Web/data/train-00008-of-00027-a361767e10599c01.parquet', '/home/douzc/users/yuyao/datasets/Mind2Web/data/train-00020-of-00027-a3f17abfa6315328.parquet', '/home/douzc/users/yuyao/datasets/Mind2Web/data/train-00007-of-00027-ae4267e946757225.parquet', '/home/douzc/users/yuyao/datasets/Mind2Web/data/train-00018-of-00027-59871098159f2152.parquet', '/home/douzc/users/yuyao/datasets/Mind2Web/data/train-00009-of-00027-6389d25433f33aeb.parquet', '/home/douzc/users/yuyao/datasets/Mind2Web/data/train-00003-of-00027-b2bcc4d20fbfb47d.parquet', '/home/douzc/users/yuyao/datasets/Mind2Web/data/train-00000-of-00027-4d11798d7219186d.parquet', '/home/douzc/users/yuyao/datasets/Mind2Web/data/train-00014-of-00027-ed3e2dfdf0245d74.parquet', '/home/douzc/users/yuyao/datasets/Mind2Web/data/train-00012-of-00027-e10fbc31995f4638.parquet', '/home/douzc/users/yuyao/datasets/Mind2Web/data/train-00013-of-00027-f12808857fc81595.parquet', '/home/douzc/users/yuyao/datasets/Mind2Web/data/train-00024-of-00027-c75dad7737630204.parquet', '/home/douzc/users/yuyao/datasets/Mind2Web/data/train-00017-of-00027-2c7d6427a32411c4.parquet', '/home/douzc/users/yuyao/datasets/Mind2Web/data/train-00019-of-00027-55293ecc88d419ef.parquet', '/home/douzc/users/yuyao/datasets/Mind2Web/data/train-00021-of-00027-52891bb870366cec.parquet', '/home/douzc/users/yuyao/datasets/Mind2Web/data/train-00023-of-00027-9cb87a52ffbec4a9.parquet', '/home/douzc/users/yuyao/datasets/Mind2Web/data/train-00025-of-00027-903fd897f9bfb606.parquet', '/home/douzc/users/yuyao/datasets/Mind2Web/data/train-00006-of-00027-94de4ed04ae0b588.parquet', '/home/douzc/users/yuyao/datasets/Mind2Web/data/train-00004-of-00027-82ef57959581c455.parquet', '/home/douzc/users/yuyao/datasets/Mind2Web/data/train-00011-of-00027-d307a333ead09969.parquet', '/home/douzc/users/yuyao/datasets/Mind2Web/data/train-00015-of-00027-3e1bf87116e5d714.parquet', '/home/douzc/users/yuyao/datasets/Mind2Web/data/train-00022-of-00027-12501ae3fc70271f.parquet']\n"
     ]
    }
   ],
   "source": [
    "\n",
    "\n",
    "data_dir = '/home/douzc/users/yuyao/datasets/Mind2Web/data'\n",
    "\n",
    "# 获取所有 train 文件的路径\n",
    "train_files = glob(os.path.join(data_dir, 'train-*.parquet'))\n",
    "print(train_files)\n",
    "# 读取并合并所有 train 文件\n",
    "df_train = pd.concat([pd.read_parquet(file) for file in train_files], ignore_index=True)\n",
    "df = df_train.drop_duplicates(subset=[\"annotation_id\"])\n"
   ]
  },
  {
   "cell_type": "code",
   "execution_count": 6,
   "metadata": {},
   "outputs": [],
   "source": [
    "# 处理数据集\n",
    "embedding_manager = TaskEmbeddingManager(AIServiceManager(config_path=\"/home/douzc/users/yuyao/browser_use_taskunit/agent/Task_unit_utils/api_config.json\"),dataset=df,openai_api_key=\"sk-VBtOoMbXC0U5ESUL9d2c39979bE548Cd9cDa8fE1F2264c83\")"
   ]
  },
  {
   "cell_type": "code",
   "execution_count": 7,
   "metadata": {},
   "outputs": [],
   "source": [
    "embedding_manager.process_dataset_parallel()\n",
    "embedding_manager.perform_hierarchical_clustering()\n",
    "embedding_manager.visualize_clusters_tsne()"
   ]
  },
  {
   "cell_type": "code",
   "execution_count": 5,
   "metadata": {},
   "outputs": [
    {
     "name": "stdout",
     "output_type": "stream",
     "text": [
      "2025-06-21 16:59:04 - EmbeddingManager - ERROR - 错误: 无法执行聚类，嵌入向量和FAISS索引都不可用。请先运行 process_dataset_parallel。\n",
      "错误：DataFrame 的聚类标签不可用。请确保已运行聚类并映射了结果 (map_clusters_to_dataframe)。\n"
     ]
    }
   ],
   "source": [
    "cluster_id_to_print = 1 # 你想打印的簇的 ID\n",
    "# 检查必要的数据是否准备就绪\n",
    "embedding_manager.perform_hierarchical_clustering()\n",
    "if df is None:\n",
    "    print(\"错误：DataFrame 未 中加载。\")\n",
    "elif embedding_manager.raw_cluster_labels is None:\n",
    "    print(\"错误：DataFrame 的聚类标签不可用。请确保已运行聚类并映射了结果 (map_clusters_to_dataframe)。\")\n",
    "else:\n",
    "    clusters_by_distance=embedding_manager.raw_cluster_labels\n",
    "    for idx, cluster_id in enumerate(clusters_by_distance):\n",
    "            if cluster_id ==cluster_id_to_print:\n",
    "                print(df.iloc[idx][\"confirmed_task\"])\n",
    "\n"
   ]
  },
  {
   "cell_type": "code",
   "execution_count": 11,
   "metadata": {},
   "outputs": [
    {
     "name": "stdout",
     "output_type": "stream",
     "text": [
      "根据 1009 个聚类标签准备轨迹数据...\n",
      "为 29 个唯一聚类准备图生成任务...\n",
      "开始执行 29 个图生成任务...\n"
     ]
    },
    {
     "name": "stderr",
     "output_type": "stream",
     "text": [
      "  0%|          | 0/29 [00:00<?, ?it/s]"
     ]
    },
    {
     "name": "stdout",
     "output_type": "stream",
     "text": [
      "正在处理聚类: 19\n",
      "正在为 cluster_19 调用Deepseek API生成图...\n",
      "✓ 已保存 cluster_19 的图结构到: /home/zyy/browser_use_myown/agent/Task_unit_utils/data/cluster_graph_outputs/deepseek/cluster_19_graph.json\n",
      "正在处理聚类: 6\n",
      "正在为 cluster_6 调用Deepseek API生成图...\n",
      "✓ 已保存 cluster_6 的图结构到: /home/zyy/browser_use_myown/agent/Task_unit_utils/data/cluster_graph_outputs/deepseek/cluster_6_graph.json\n",
      "正在处理聚类: 25\n",
      "正在为 cluster_25 调用Deepseek API生成图...\n",
      "✓ 已保存 cluster_25 的图结构到: /home/zyy/browser_use_myown/agent/Task_unit_utils/data/cluster_graph_outputs/deepseek/cluster_25_graph.json\n",
      "正在处理聚类: 9\n",
      "正在为 cluster_9 调用Deepseek API生成图...\n",
      "✓ 已保存 cluster_9 的图结构到: /home/zyy/browser_use_myown/agent/Task_unit_utils/data/cluster_graph_outputs/deepseek/cluster_9_graph.json\n",
      "正在处理聚类: 10\n",
      "正在为 cluster_10 调用Deepseek API生成图...\n",
      "✓ 已保存 cluster_10 的图结构到: /home/zyy/browser_use_myown/agent/Task_unit_utils/data/cluster_graph_outputs/deepseek/cluster_10_graph.json\n",
      "正在处理聚类: 16\n",
      "正在为 cluster_16 调用Deepseek API生成图...\n",
      "✓ 已保存 cluster_16 的图结构到: /home/zyy/browser_use_myown/agent/Task_unit_utils/data/cluster_graph_outputs/deepseek/cluster_16_graph.json\n",
      "正在处理聚类: 2\n",
      "正在为 cluster_2 调用Deepseek API生成图...\n",
      "✓ 已保存 cluster_2 的图结构到: /home/zyy/browser_use_myown/agent/Task_unit_utils/data/cluster_graph_outputs/deepseek/cluster_2_graph.json\n",
      "正在处理聚类: 20\n",
      "正在为 cluster_20 调用Deepseek API生成图...\n",
      "✓ 已保存 cluster_20 的图结构到: /home/zyy/browser_use_myown/agent/Task_unit_utils/data/cluster_graph_outputs/deepseek/cluster_20_graph.json\n",
      "正在处理聚类: 4\n",
      "正在为 cluster_4 调用Deepseek API生成图...\n",
      "✓ 已保存 cluster_4 的图结构到: /home/zyy/browser_use_myown/agent/Task_unit_utils/data/cluster_graph_outputs/deepseek/cluster_4_graph.json\n",
      "正在处理聚类: 27\n",
      "正在为 cluster_27 调用Deepseek API生成图...\n",
      "✓ 已保存 cluster_27 的图结构到: /home/zyy/browser_use_myown/agent/Task_unit_utils/data/cluster_graph_outputs/deepseek/cluster_27_graph.json\n",
      "正在处理聚类: 14\n",
      "正在为 cluster_14 调用Deepseek API生成图...\n",
      "✓ 已保存 cluster_14 的图结构到: /home/zyy/browser_use_myown/agent/Task_unit_utils/data/cluster_graph_outputs/deepseek/cluster_14_graph.json\n",
      "正在处理聚类: 26\n",
      "正在为 cluster_26 调用Deepseek API生成图...\n",
      "✓ 已保存 cluster_26 的图结构到: /home/zyy/browser_use_myown/agent/Task_unit_utils/data/cluster_graph_outputs/deepseek/cluster_26_graph.json\n",
      "正在处理聚类: 8\n",
      "正在为 cluster_8 调用Deepseek API生成图...\n",
      "✓ 已保存 cluster_8 的图结构到: /home/zyy/browser_use_myown/agent/Task_unit_utils/data/cluster_graph_outputs/deepseek/cluster_8_graph.json\n",
      "正在处理聚类: 22\n",
      "正在为 cluster_22 调用Deepseek API生成图...\n",
      "✓ 已保存 cluster_22 的图结构到: /home/zyy/browser_use_myown/agent/Task_unit_utils/data/cluster_graph_outputs/deepseek/cluster_22_graph.json\n",
      "正在处理聚类: 23\n",
      "正在为 cluster_23 调用Deepseek API生成图...\n",
      "✓ 已保存 cluster_23 的图结构到: /home/zyy/browser_use_myown/agent/Task_unit_utils/data/cluster_graph_outputs/deepseek/cluster_23_graph.json\n",
      "正在处理聚类: 12\n",
      "正在为 cluster_12 调用Deepseek API生成图...\n",
      "✓ 已保存 cluster_12 的图结构到: /home/zyy/browser_use_myown/agent/Task_unit_utils/data/cluster_graph_outputs/deepseek/cluster_12_graph.json\n",
      "正在处理聚类: 5\n",
      "正在为 cluster_5 调用Deepseek API生成图...\n",
      "✓ 已保存 cluster_5 的图结构到: /home/zyy/browser_use_myown/agent/Task_unit_utils/data/cluster_graph_outputs/deepseek/cluster_5_graph.json\n",
      "正在处理聚类: 11\n",
      "正在为 cluster_11 调用Deepseek API生成图...\n",
      "✓ 已保存 cluster_11 的图结构到: /home/zyy/browser_use_myown/agent/Task_unit_utils/data/cluster_graph_outputs/deepseek/cluster_11_graph.json\n",
      "正在处理聚类: 3\n",
      "正在为 cluster_3 调用Deepseek API生成图...\n",
      "✓ 已保存 cluster_3 的图结构到: /home/zyy/browser_use_myown/agent/Task_unit_utils/data/cluster_graph_outputs/deepseek/cluster_3_graph.json\n",
      "正在处理聚类: 15\n",
      "正在为 cluster_15 调用Deepseek API生成图...\n",
      "✓ 已保存 cluster_15 的图结构到: /home/zyy/browser_use_myown/agent/Task_unit_utils/data/cluster_graph_outputs/deepseek/cluster_15_graph.json\n",
      "正在处理聚类: 17\n",
      "正在为 cluster_17 调用Deepseek API生成图...\n",
      "✓ 已保存 cluster_17 的图结构到: /home/zyy/browser_use_myown/agent/Task_unit_utils/data/cluster_graph_outputs/deepseek/cluster_17_graph.json\n",
      "正在处理聚类: 28\n",
      "正在为 cluster_28 调用Deepseek API生成图...\n",
      "✓ 已保存 cluster_28 的图结构到: /home/zyy/browser_use_myown/agent/Task_unit_utils/data/cluster_graph_outputs/deepseek/cluster_28_graph.json\n",
      "正在处理聚类: 18\n",
      "正在为 cluster_18 调用Deepseek API生成图...\n",
      "✓ 已保存 cluster_18 的图结构到: /home/zyy/browser_use_myown/agent/Task_unit_utils/data/cluster_graph_outputs/deepseek/cluster_18_graph.json\n",
      "正在处理聚类: 13\n",
      "正在为 cluster_13 调用Deepseek API生成图...\n",
      "✓ 已保存 cluster_13 的图结构到: /home/zyy/browser_use_myown/agent/Task_unit_utils/data/cluster_graph_outputs/deepseek/cluster_13_graph.json\n",
      "正在处理聚类: 7\n",
      "正在为 cluster_7 调用Deepseek API生成图...\n",
      "✓ 已保存 cluster_7 的图结构到: /home/zyy/browser_use_myown/agent/Task_unit_utils/data/cluster_graph_outputs/deepseek/cluster_7_graph.json\n",
      "正在处理聚类: 21\n",
      "正在为 cluster_21 调用Deepseek API生成图...\n",
      "✓ 已保存 cluster_21 的图结构到: /home/zyy/browser_use_myown/agent/Task_unit_utils/data/cluster_graph_outputs/deepseek/cluster_21_graph.json\n",
      "正在处理聚类: 1\n",
      "正在为 cluster_1 调用Deepseek API生成图...\n",
      "✓ 已保存 cluster_1 的图结构到: /home/zyy/browser_use_myown/agent/Task_unit_utils/data/cluster_graph_outputs/deepseek/cluster_1_graph.json\n",
      "正在处理聚类: 29\n",
      "正在为 cluster_29 调用Deepseek API生成图...\n",
      "✓ 已保存 cluster_29 的图结构到: /home/zyy/browser_use_myown/agent/Task_unit_utils/data/cluster_graph_outputs/deepseek/cluster_29_graph.json\n",
      "正在处理聚类: 24\n",
      "正在为 cluster_24 调用Deepseek API生成图...\n"
     ]
    },
    {
     "name": "stderr",
     "output_type": "stream",
     "text": [
      "100%|██████████| 29/29 [16:32<00:00, 34.22s/it]  "
     ]
    },
    {
     "name": "stdout",
     "output_type": "stream",
     "text": [
      "✓ 已保存 cluster_24 的图结构到: /home/zyy/browser_use_myown/agent/Task_unit_utils/data/cluster_graph_outputs/deepseek/cluster_24_graph.json\n",
      "处理完成: 成功 29/29 个聚类\n",
      "总耗时: 992.32秒\n"
     ]
    },
    {
     "name": "stderr",
     "output_type": "stream",
     "text": [
      "\n"
     ]
    }
   ],
   "source": [
    "import graph\n",
    "import asyncio\n",
    "await graph.main_cluster_async(\n",
    "        clusters_by_distance=clusters_by_distance,\n",
    "        df=df,\n",
    "        taskunit_dir=\"/home/zyy/browser_use_myown/agent/Task_unit_utils/data/cluster_task_unit_outputs/deepseek\",\n",
    "        output_dir=\"/home/zyy/browser_use_myown/agent/Task_unit_utils/data/cluster_graph_outputs/deepseek\",\n",
    "        max_concurrency=12,\n",
    "        mode=\"formal\",\n",
    "    )\n"
   ]
  }
 ],
 "metadata": {
  "kernelspec": {
   "display_name": "EasyRL",
   "language": "python",
   "name": "python3"
  },
  "language_info": {
   "codemirror_mode": {
    "name": "ipython",
    "version": 3
   },
   "file_extension": ".py",
   "mimetype": "text/x-python",
   "name": "python",
   "nbconvert_exporter": "python",
   "pygments_lexer": "ipython3",
   "version": "3.12.9"
  }
 },
 "nbformat": 4,
 "nbformat_minor": 2
}
